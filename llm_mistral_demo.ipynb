{
 "cells": [
  {
   "cell_type": "markdown",
   "id": "1233ed04",
   "metadata": {},
   "source": [
    "# 🐍 Mistral LLM Demo for Generative Student Feedback"
   ]
  },
  {
   "cell_type": "markdown",
   "id": "3ba8d252",
   "metadata": {},
   "source": [
    "This notebook uses **Mistral-7B-Instruct** from Hugging Face on Colab GPU to generate insights from student feedback questions."
   ]
  },
  {
   "cell_type": "code",
   "execution_count": null,
   "id": "09121ab6",
   "metadata": {},
   "outputs": [],
   "source": [
    "\n",
    "!pip install -q transformers accelerate bitsandbytes\n",
    "\n",
    "from transformers import AutoTokenizer, AutoModelForCausalLM\n",
    "import torch\n",
    "\n",
    "model_id = \"mistralai/Mistral-7B-Instruct-v0.1\"\n",
    "tokenizer = AutoTokenizer.from_pretrained(model_id)\n",
    "model = AutoModelForCausalLM.from_pretrained(\n",
    "    model_id,\n",
    "    device_map=\"auto\",\n",
    "    torch_dtype=torch.float16\n",
    ")\n",
    "\n",
    "prompt = \"Why were students confused in the lecture?\"\n",
    "inputs = tokenizer(prompt, return_tensors=\"pt\").to(model.device)\n",
    "outputs = model.generate(**inputs, max_new_tokens=100)\n",
    "print(tokenizer.decode(outputs[0], skip_special_tokens=True))\n"
   ]
  },
  {
   "cell_type": "markdown",
   "id": "0d0fb900",
   "metadata": {},
   "source": [
    "✅ This demonstrates how to run a local LLM on Colab for free without relying on GPT APIs."
   ]
  }
 ],
 "metadata": {},
 "nbformat": 4,
 "nbformat_minor": 5
}
